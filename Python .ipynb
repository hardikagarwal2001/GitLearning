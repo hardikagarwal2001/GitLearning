{
    "cells": [
        {
            "cell_type": "code",
            "execution_count": 1,
            "metadata": {},
            "outputs": [],
            "source": "x = 1"
        },
        {
            "cell_type": "code",
            "execution_count": 2,
            "metadata": {},
            "outputs": [
                {
                    "name": "stdout",
                    "output_type": "stream",
                    "text": "1\n2\n3\n4\n5\n6\n7\n8\n9\n"
                }
            ],
            "source": "while x <10:\n    print(x)\n    x+=1\n"
        },
        {
            "cell_type": "code",
            "execution_count": 3,
            "metadata": {},
            "outputs": [],
            "source": "import numpy as np\nimport seaborn as sb"
        },
        {
            "cell_type": "code",
            "execution_count": 4,
            "metadata": {},
            "outputs": [],
            "source": "x = np.array([1,2,3,4,5])"
        },
        {
            "cell_type": "code",
            "execution_count": 5,
            "metadata": {},
            "outputs": [
                {
                    "ename": "AttributeError",
                    "evalue": "module 'seaborn' has no attribute 'dataplot'",
                    "output_type": "error",
                    "traceback": [
                        "\u001b[0;31m---------------------------------------------------------------------------\u001b[0m",
                        "\u001b[0;31mAttributeError\u001b[0m                            Traceback (most recent call last)",
                        "\u001b[0;32m<ipython-input-5-7a07cb88162c>\u001b[0m in \u001b[0;36m<module>\u001b[0;34m\u001b[0m\n\u001b[0;32m----> 1\u001b[0;31m \u001b[0msb\u001b[0m\u001b[0;34m.\u001b[0m\u001b[0mdataplot\u001b[0m\u001b[0;34m(\u001b[0m\u001b[0mx\u001b[0m\u001b[0;34m)\u001b[0m\u001b[0;34m\u001b[0m\u001b[0;34m\u001b[0m\u001b[0m\n\u001b[0m",
                        "\u001b[0;31mAttributeError\u001b[0m: module 'seaborn' has no attribute 'dataplot'"
                    ]
                }
            ],
            "source": "sb.dataplot(x)"
        },
        {
            "cell_type": "code",
            "execution_count": 6,
            "metadata": {},
            "outputs": [
                {
                    "ename": "AttributeError",
                    "evalue": "module 'seaborn' has no attribute 'dir'",
                    "output_type": "error",
                    "traceback": [
                        "\u001b[0;31m---------------------------------------------------------------------------\u001b[0m",
                        "\u001b[0;31mAttributeError\u001b[0m                            Traceback (most recent call last)",
                        "\u001b[0;32m<ipython-input-6-4dc481ef1f2e>\u001b[0m in \u001b[0;36m<module>\u001b[0;34m\u001b[0m\n\u001b[0;32m----> 1\u001b[0;31m \u001b[0msb\u001b[0m\u001b[0;34m.\u001b[0m\u001b[0mdir\u001b[0m\u001b[0;34m(\u001b[0m\u001b[0;34m)\u001b[0m\u001b[0;34m\u001b[0m\u001b[0;34m\u001b[0m\u001b[0m\n\u001b[0m",
                        "\u001b[0;31mAttributeError\u001b[0m: module 'seaborn' has no attribute 'dir'"
                    ]
                }
            ],
            "source": "sb.dir()\n"
        },
        {
            "cell_type": "code",
            "execution_count": 7,
            "metadata": {},
            "outputs": [
                {
                    "data": {
                        "text/plain": "['FacetGrid',\n 'JointGrid',\n 'PairGrid',\n '__builtins__',\n '__cached__',\n '__doc__',\n '__file__',\n '__loader__',\n '__name__',\n '__package__',\n '__path__',\n '__spec__',\n '__version__',\n '__warningregistry__',\n '_orig_rc_params',\n 'algorithms',\n 'axes_style',\n 'axisgrid',\n 'barplot',\n 'blend_palette',\n 'boxenplot',\n 'boxplot',\n 'categorical',\n 'catplot',\n 'choose_colorbrewer_palette',\n 'choose_cubehelix_palette',\n 'choose_dark_palette',\n 'choose_diverging_palette',\n 'choose_light_palette',\n 'clustermap',\n 'cm',\n 'color_palette',\n 'colors',\n 'countplot',\n 'crayon_palette',\n 'crayons',\n 'cubehelix_palette',\n 'dark_palette',\n 'desaturate',\n 'despine',\n 'distplot',\n 'distributions',\n 'diverging_palette',\n 'dogplot',\n 'external',\n 'factorplot',\n 'get_data_home',\n 'get_dataset_names',\n 'heatmap',\n 'hls_palette',\n 'husl_palette',\n 'jointplot',\n 'kdeplot',\n 'light_palette',\n 'lineplot',\n 'lmplot',\n 'load_dataset',\n 'lvplot',\n 'matrix',\n 'miscplot',\n 'mpl',\n 'mpl_palette',\n 'pairplot',\n 'palettes',\n 'palplot',\n 'plotting_context',\n 'pointplot',\n 'rcmod',\n 'regplot',\n 'regression',\n 'relational',\n 'relplot',\n 'reset_defaults',\n 'reset_orig',\n 'residplot',\n 'rugplot',\n 'saturate',\n 'scatterplot',\n 'set',\n 'set_color_codes',\n 'set_context',\n 'set_hls_values',\n 'set_palette',\n 'set_style',\n 'stripplot',\n 'swarmplot',\n 'utils',\n 'violinplot',\n 'widgets',\n 'xkcd_palette',\n 'xkcd_rgb']"
                    },
                    "execution_count": 7,
                    "metadata": {},
                    "output_type": "execute_result"
                }
            ],
            "source": "dir(sb)"
        },
        {
            "cell_type": "code",
            "execution_count": 8,
            "metadata": {},
            "outputs": [
                {
                    "data": {
                        "text/plain": "<matplotlib.axes._subplots.AxesSubplot at 0x7fa0f5226990>"
                    },
                    "execution_count": 8,
                    "metadata": {},
                    "output_type": "execute_result"
                },
                {
                    "data": {
                        "image/png": "[encoded data removed]",
                        "text/plain": "<Figure size 432x288 with 1 Axes>"
                    },
                    "metadata": {
                        "needs_background": "light"
                    },
                    "output_type": "display_data"
                }
            ],
            "source": "sb.distplot(x)\n"
        },
        {
            "cell_type": "code",
            "execution_count": null,
            "metadata": {},
            "outputs": [],
            "source": ""
        }
    ],
    "metadata": {
        "kernelspec": {
            "display_name": "Python 3.7",
            "language": "python",
            "name": "python3"
        },
        "language_info": {
            "codemirror_mode": {
                "name": "ipython",
                "version": 3
            },
            "file_extension": ".py",
            "mimetype": "text/x-python",
            "name": "python",
            "nbconvert_exporter": "python",
            "pygments_lexer": "ipython3",
            "version": "3.7.9"
        }
    },
    "nbformat": 4,
    "nbformat_minor": 1
}